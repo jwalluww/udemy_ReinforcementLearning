{
 "cells": [
  {
   "cell_type": "markdown",
   "id": "bb280e96",
   "metadata": {},
   "source": [
    "# Course setup"
   ]
  },
  {
   "cell_type": "code",
   "execution_count": 1,
   "id": "7fd22b00",
   "metadata": {},
   "outputs": [],
   "source": [
    "import numpy"
   ]
  },
  {
   "cell_type": "code",
   "execution_count": 7,
   "id": "6997ef9a",
   "metadata": {},
   "outputs": [],
   "source": [
    "# !pip install gym"
   ]
  },
  {
   "cell_type": "code",
   "execution_count": 4,
   "id": "48523daf",
   "metadata": {},
   "outputs": [],
   "source": [
    "import gym"
   ]
  },
  {
   "cell_type": "markdown",
   "id": "3fccbe48",
   "metadata": {},
   "source": [
    "# Notes\n",
    "## Perceptron Model\n",
    "- Created from the structure of a cell\n",
    "- Perceptron = neuron\n",
    "## Neural Networks\n",
    "- Feed forward, multi-layer perceptron model\n",
    "- First layer is input layer\n",
    "- Last layer is output layer\n",
    "- Layers in between input & output are the hidden layers\n",
    "- Depth is how many layers - deep = 2 or more layers\n",
    "- A network exists theoretically that can approximate any function (unversal approximation theorem)\n",
    "- Activation Functions set boundaries between 0 & 1\n",
    "## Activation Functions\n",
    "- continuous or binary\n",
    "- x is variable\n",
    "- w is weight\n",
    "- b is bias\n",
    "- x*w+b\n",
    "- b is set for w*x to take effect\n",
    "- Total inputs = z\n",
    "- z=wx+b\n",
    "- z = f(z) or f(Z), capital would be a tensor\n",
    "- types of activation functions\n",
    "    - Hyberbolic Tangent: output between -1 & 1; tahn(z)\n",
    "    - Rectified Linear Unit (ReLU): max(0,z); vanishing gradients are taken care of - it's really good performing\n",
    "## Multiclass Activation Functions\n",
    "- more than 2 classes, but not continuous\n",
    "- one class per data point or multiple classes per data point (exclusive or non-exclusive)\n",
    "- photos can have multiple classes (kitchen, stove, wood floor)\n",
    "- photos can have one class (black & white or color)\n",
    "- non-exclusive: sigmoid function; percentage between 0 & 1 for each class; \n",
    "- mutually exclusive classes: softmax function: calculates probability distribution over all target classes for each target class. Sum of all probs will be 1;\n",
    "## Cost Functions & Gradient Descent\n",
    "- Cost Function = loss functions or error functions\n",
    "- inputs * weights plus biases and that's passed through layers then to output\n",
    "- How to evaluate how far off we are - Outputs in comparison to actual\n",
    "- How far off are you from the true values? It's an average so it's one number.\n",
    "- y: true value, a: neuron's prediction; r(z) = a: holds a lot of info\n",
    "- Parameters\n",
    "    - w: weights\n",
    "    - b: biases\n",
    "    - s: input of single training sample\n",
    "    - e: outputs\n",
    "- Which weights lead to lowest cost? penalize few large errors in favor of more smaller errors\n",
    "- Which value of w results in minimum C(w)\n",
    "- Gradient Descent\n",
    "    - calculate slope at one point and move down that slope and calculate again until you reach 0\n",
    "    - you can take smaller steps but it takes longer\n",
    "    - you can take larger steps but you can overshoot the min\n",
    "    - learning rate = step sizes\n",
    "    - learning rate is constant\n",
    "        - but this doesn't have to be true! (Adaptive Gradient Descent)\n",
    "            - we use adam optimizer\n",
    "    - actually calculated in an n-dimensional space\n",
    "    - Derivitive = Gradient\n",
    "    - Vectors = Tensors\n",
    "- Cross entropy loss function\n",
    "    - assumes your model predicts probability distribution for each class\n",
    "## Backpropogation\n",
    "- Hardest part of NN\n",
    "- Each input recieves a weight & a bias\n",
    "- Going backwards to change weights\n",
    "- Partial derivitive\n",
    "- Use gradient to go back through and update weights\n",
    "- Hadamard Product - element by element multiplication for matrices\n",
    "## Tensorflow vs Keras\n",
    "- TF = open source deep learning library developed by google. Tensorboard = visualization\n",
    "- Keras = high level python library that can have other deep learning libraries underneath\n",
    "- Keras runs on top of tensorflow"
   ]
  },
  {
   "cell_type": "markdown",
   "id": "de2f3827",
   "metadata": {},
   "source": [
    "# Preparing the data"
   ]
  },
  {
   "cell_type": "code",
   "execution_count": 6,
   "id": "69377488",
   "metadata": {},
   "outputs": [],
   "source": [
    "# !pip install pandas"
   ]
  },
  {
   "cell_type": "code",
   "execution_count": 14,
   "id": "2729995f",
   "metadata": {},
   "outputs": [],
   "source": [
    "# !pip install seaborn"
   ]
  },
  {
   "cell_type": "code",
   "execution_count": 15,
   "id": "e054ca6f",
   "metadata": {},
   "outputs": [],
   "source": [
    "import pandas as pd\n",
    "import numpy as np\n",
    "import seaborn as sns"
   ]
  },
  {
   "cell_type": "code",
   "execution_count": 16,
   "id": "cda7d834",
   "metadata": {},
   "outputs": [
    {
     "data": {
      "text/plain": [
       "'C:\\\\Users\\\\wallj\\\\DS_Projects\\\\udemy_ReinforcementLearning'"
      ]
     },
     "execution_count": 16,
     "metadata": {},
     "output_type": "execute_result"
    }
   ],
   "source": [
    "pwd"
   ]
  },
  {
   "cell_type": "code",
   "execution_count": 17,
   "id": "8cf8ae0b",
   "metadata": {},
   "outputs": [
    {
     "name": "stdout",
     "output_type": "stream",
     "text": [
      " Volume in drive C has no label.\n",
      " Volume Serial Number is 18C5-59A7\n",
      "\n",
      " Directory of C:\\Users\\wallj\\DS_Projects\\udemy_ReinforcementLearning\n",
      "\n",
      "08/20/2021  02:59 PM    <DIR>          .\n",
      "08/20/2021  02:59 PM    <DIR>          ..\n",
      "08/20/2021  02:47 PM    <DIR>          .ipynb_checkpoints\n",
      "08/20/2021  02:32 PM    <DIR>          00-NumPy\n",
      "08/20/2021  02:32 PM    <DIR>          01-Matplotlib-Visualization\n",
      "08/20/2021  02:32 PM    <DIR>          02-Pandas-and-Scikit-Learn\n",
      "08/20/2021  02:32 PM    <DIR>          03-ANNs\n",
      "08/20/2021  02:32 PM    <DIR>          04-CNNs\n",
      "08/20/2021  02:32 PM    <DIR>          05-Introduction-to-gym\n",
      "08/20/2021  02:32 PM    <DIR>          06-Classical-Q-Learning\n",
      "08/20/2021  02:32 PM    <DIR>          07-Deep-Q-Learning\n",
      "08/20/2021  02:59 PM           150,345 Artificial_NN_Tensorflow_Basics.ipynb\n",
      "08/20/2021  02:32 PM    <DIR>          DATA\n",
      "08/20/2021  02:32 PM           138,033 Pierian_Data_Logo.png\n",
      "               2 File(s)        288,378 bytes\n",
      "              12 Dir(s)  665,664,839,680 bytes free\n"
     ]
    }
   ],
   "source": [
    "ls"
   ]
  },
  {
   "cell_type": "code",
   "execution_count": 18,
   "id": "554f69e9",
   "metadata": {},
   "outputs": [],
   "source": [
    "df = pd.read_csv('C:\\\\Users\\\\wallj\\\\DS_Projects\\\\udemy_ReinforcementLearning\\\\DATA\\\\fake_reg.csv')"
   ]
  },
  {
   "cell_type": "code",
   "execution_count": 19,
   "id": "f62f763c",
   "metadata": {},
   "outputs": [
    {
     "data": {
      "text/html": [
       "<div>\n",
       "<style scoped>\n",
       "    .dataframe tbody tr th:only-of-type {\n",
       "        vertical-align: middle;\n",
       "    }\n",
       "\n",
       "    .dataframe tbody tr th {\n",
       "        vertical-align: top;\n",
       "    }\n",
       "\n",
       "    .dataframe thead th {\n",
       "        text-align: right;\n",
       "    }\n",
       "</style>\n",
       "<table border=\"1\" class=\"dataframe\">\n",
       "  <thead>\n",
       "    <tr style=\"text-align: right;\">\n",
       "      <th></th>\n",
       "      <th>price</th>\n",
       "      <th>feature1</th>\n",
       "      <th>feature2</th>\n",
       "    </tr>\n",
       "  </thead>\n",
       "  <tbody>\n",
       "    <tr>\n",
       "      <th>0</th>\n",
       "      <td>461.527929</td>\n",
       "      <td>999.787558</td>\n",
       "      <td>999.766096</td>\n",
       "    </tr>\n",
       "    <tr>\n",
       "      <th>1</th>\n",
       "      <td>548.130011</td>\n",
       "      <td>998.861615</td>\n",
       "      <td>1001.042403</td>\n",
       "    </tr>\n",
       "    <tr>\n",
       "      <th>2</th>\n",
       "      <td>410.297162</td>\n",
       "      <td>1000.070267</td>\n",
       "      <td>998.844015</td>\n",
       "    </tr>\n",
       "    <tr>\n",
       "      <th>3</th>\n",
       "      <td>540.382220</td>\n",
       "      <td>999.952251</td>\n",
       "      <td>1000.440940</td>\n",
       "    </tr>\n",
       "    <tr>\n",
       "      <th>4</th>\n",
       "      <td>546.024553</td>\n",
       "      <td>1000.446011</td>\n",
       "      <td>1000.338531</td>\n",
       "    </tr>\n",
       "  </tbody>\n",
       "</table>\n",
       "</div>"
      ],
      "text/plain": [
       "        price     feature1     feature2\n",
       "0  461.527929   999.787558   999.766096\n",
       "1  548.130011   998.861615  1001.042403\n",
       "2  410.297162  1000.070267   998.844015\n",
       "3  540.382220   999.952251  1000.440940\n",
       "4  546.024553  1000.446011  1000.338531"
      ]
     },
     "execution_count": 19,
     "metadata": {},
     "output_type": "execute_result"
    }
   ],
   "source": [
    "df.head()"
   ]
  },
  {
   "cell_type": "code",
   "execution_count": 20,
   "id": "d1beea8e",
   "metadata": {},
   "outputs": [
    {
     "data": {
      "text/plain": [
       "<seaborn.axisgrid.PairGrid at 0x24cb84d8c88>"
      ]
     },
     "execution_count": 20,
     "metadata": {},
     "output_type": "execute_result"
    },
    {
     "data": {
      "image/png": "[encoded data removed]",
      "text/plain": [
       "<Figure size 540x540 with 12 Axes>"
      ]
     },
     "metadata": {
      "needs_background": "light"
     },
     "output_type": "display_data"
    }
   ],
   "source": [
    "sns.pairplot(df)"
   ]
  },
  {
   "cell_type": "code",
   "execution_count": 21,
   "id": "b4a761cf",
   "metadata": {},
   "outputs": [],
   "source": [
    "# !pip install sklearn"
   ]
  },
  {
   "cell_type": "code",
   "execution_count": 22,
   "id": "bf16bc77",
   "metadata": {},
   "outputs": [],
   "source": [
    "from sklearn.model_selection import train_test_split"
   ]
  },
  {
   "cell_type": "code",
   "execution_count": 23,
   "id": "fd6ce73c",
   "metadata": {},
   "outputs": [],
   "source": [
    "X = df[['feature1','feature2']].values"
   ]
  },
  {
   "cell_type": "code",
   "execution_count": 24,
   "id": "729467ca",
   "metadata": {},
   "outputs": [],
   "source": [
    "y = df['price'].values"
   ]
  },
  {
   "cell_type": "code",
   "execution_count": 25,
   "id": "453d3d24",
   "metadata": {},
   "outputs": [],
   "source": [
    "# X"
   ]
  },
  {
   "cell_type": "code",
   "execution_count": 26,
   "id": "80c0946e",
   "metadata": {},
   "outputs": [],
   "source": [
    "# y"
   ]
  },
  {
   "cell_type": "code",
   "execution_count": 27,
   "id": "030d533a",
   "metadata": {},
   "outputs": [],
   "source": [
    "X_train, X_test, y_train, y_test = train_test_split(X, y, test_size=0.3, random_state=42)"
   ]
  },
  {
   "cell_type": "code",
   "execution_count": 28,
   "id": "105c1999",
   "metadata": {},
   "outputs": [
    {
     "data": {
      "text/plain": [
       "(700, 2)"
      ]
     },
     "execution_count": 28,
     "metadata": {},
     "output_type": "execute_result"
    }
   ],
   "source": [
    "X_train.shape"
   ]
  },
  {
   "cell_type": "code",
   "execution_count": 29,
   "id": "f02b4f6f",
   "metadata": {},
   "outputs": [
    {
     "data": {
      "text/plain": [
       "(300, 2)"
      ]
     },
     "execution_count": 29,
     "metadata": {},
     "output_type": "execute_result"
    }
   ],
   "source": [
    "X_test.shape"
   ]
  },
  {
   "cell_type": "code",
   "execution_count": 30,
   "id": "06d5ed54",
   "metadata": {},
   "outputs": [],
   "source": [
    "from sklearn.preprocessing import MinMaxScaler"
   ]
  },
  {
   "cell_type": "code",
   "execution_count": 31,
   "id": "af1c33cb",
   "metadata": {},
   "outputs": [],
   "source": [
    "# help(MinMaxScaler)"
   ]
  },
  {
   "cell_type": "code",
   "execution_count": 32,
   "id": "a21bb2b7",
   "metadata": {},
   "outputs": [],
   "source": [
    "scaler = MinMaxScaler()"
   ]
  },
  {
   "cell_type": "code",
   "execution_count": 33,
   "id": "9296f0c9",
   "metadata": {},
   "outputs": [
    {
     "data": {
      "text/plain": [
       "MinMaxScaler()"
      ]
     },
     "execution_count": 33,
     "metadata": {},
     "output_type": "execute_result"
    }
   ],
   "source": [
    "# Calculates parameters it needs to perform the scaling later on\n",
    "scaler.fit(X_train)"
   ]
  },
  {
   "cell_type": "code",
   "execution_count": 34,
   "id": "9ee75443",
   "metadata": {},
   "outputs": [],
   "source": [
    "X_train = scaler.transform(X_train)"
   ]
  },
  {
   "cell_type": "code",
   "execution_count": 35,
   "id": "d495ad9a",
   "metadata": {},
   "outputs": [],
   "source": [
    "X_test = scaler.transform(X_test)"
   ]
  },
  {
   "cell_type": "code",
   "execution_count": 36,
   "id": "7a0437b5",
   "metadata": {},
   "outputs": [],
   "source": [
    "# X_train.max()\n",
    "# X_train.min()"
   ]
  },
  {
   "cell_type": "markdown",
   "id": "1a459e9d",
   "metadata": {},
   "source": [
    "# Create Neural Network"
   ]
  },
  {
   "cell_type": "code",
   "execution_count": 37,
   "id": "332b4ac9",
   "metadata": {},
   "outputs": [],
   "source": [
    "# !pip install tensorflow"
   ]
  },
  {
   "cell_type": "code",
   "execution_count": 38,
   "id": "85b643e3",
   "metadata": {},
   "outputs": [],
   "source": [
    "from tensorflow.keras import Sequential"
   ]
  },
  {
   "cell_type": "code",
   "execution_count": 39,
   "id": "08f0c2ef",
   "metadata": {},
   "outputs": [],
   "source": [
    "# help(Sequential)"
   ]
  },
  {
   "cell_type": "code",
   "execution_count": 40,
   "id": "a107eb0a",
   "metadata": {},
   "outputs": [],
   "source": [
    "from tensorflow.keras.layers import Dense"
   ]
  },
  {
   "cell_type": "code",
   "execution_count": 41,
   "id": "8d44141d",
   "metadata": {},
   "outputs": [],
   "source": [
    "# help(Dense)"
   ]
  },
  {
   "cell_type": "code",
   "execution_count": 42,
   "id": "10722504",
   "metadata": {},
   "outputs": [],
   "source": [
    "# Pass in list of layers\n",
    "# model = Sequential([Dense(units=4,activation='relu'),\n",
    "#                     Dense(units=2,activation='relu'),\n",
    "#                     Dense(units=1,activation='relu')])\n",
    "\n",
    "# or this is much more flexible\n",
    "\n",
    "model = Sequential()\n",
    "\n",
    "model.add(Dense(4,activation='relu'))\n",
    "model.add(Dense(4,activation='relu'))\n",
    "model.add(Dense(4,activation='relu'))\n",
    "\n",
    "# Last Layer is producing 1 thing, so we set it to 1\n",
    "model.add(Dense(1))\n",
    "\n",
    "# Right parameters for regression\n",
    "model.compile(optimizer='rmsprop',loss='mse')"
   ]
  },
  {
   "cell_type": "code",
   "execution_count": 43,
   "id": "21278f54",
   "metadata": {},
   "outputs": [
    {
     "name": "stdout",
     "output_type": "stream",
     "text": [
      "Epoch 1/250\n",
      "22/22 [==============================] - 0s 571us/step - loss: 256751.2656\n",
      "Epoch 2/250\n",
      "22/22 [==============================] - 0s 476us/step - loss: 256665.8125\n",
      "Epoch 3/250\n",
      "22/22 [==============================] - 0s 476us/step - loss: 256592.0000\n",
      "Epoch 4/250\n",
      "22/22 [==============================] - 0s 524us/step - loss: 256526.6562\n",
      "Epoch 5/250\n",
      "22/22 [==============================] - 0s 476us/step - loss: 256462.9219\n",
      "Epoch 6/250\n",
      "22/22 [==============================] - 0s 429us/step - loss: 256396.4844\n",
      "Epoch 7/250\n",
      "22/22 [==============================] - 0s 476us/step - loss: 256323.1562\n",
      "Epoch 8/250\n",
      "22/22 [==============================] - 0s 524us/step - loss: 256238.2344\n",
      "Epoch 9/250\n",
      "22/22 [==============================] - 0s 476us/step - loss: 256139.6875\n",
      "Epoch 10/250\n",
      "22/22 [==============================] - 0s 429us/step - loss: 256011.5000\n",
      "Epoch 11/250\n",
      "22/22 [==============================] - 0s 524us/step - loss: 255845.9688\n",
      "Epoch 12/250\n",
      "22/22 [==============================] - 0s 476us/step - loss: 255647.3594\n",
      "Epoch 13/250\n",
      "22/22 [==============================] - 0s 429us/step - loss: 255421.4375\n",
      "Epoch 14/250\n",
      "22/22 [==============================] - 0s 476us/step - loss: 255169.2969\n",
      "Epoch 15/250\n",
      "22/22 [==============================] - 0s 476us/step - loss: 254891.1562\n",
      "Epoch 16/250\n",
      "22/22 [==============================] - 0s 476us/step - loss: 254587.4688\n",
      "Epoch 17/250\n",
      "22/22 [==============================] - 0s 476us/step - loss: 254254.1719\n",
      "Epoch 18/250\n",
      "22/22 [==============================] - 0s 524us/step - loss: 253887.9375\n",
      "Epoch 19/250\n",
      "22/22 [==============================] - 0s 524us/step - loss: 253483.9062\n",
      "Epoch 20/250\n",
      "22/22 [==============================] - 0s 476us/step - loss: 253039.7656\n",
      "Epoch 21/250\n",
      "22/22 [==============================] - 0s 476us/step - loss: 252554.8281\n",
      "Epoch 22/250\n",
      "22/22 [==============================] - 0s 476us/step - loss: 252023.2500\n",
      "Epoch 23/250\n",
      "22/22 [==============================] - 0s 476us/step - loss: 251446.2344\n",
      "Epoch 24/250\n",
      "22/22 [==============================] - 0s 476us/step - loss: 250821.3438\n",
      "Epoch 25/250\n",
      "22/22 [==============================] - 0s 429us/step - loss: 250144.4531\n",
      "Epoch 26/250\n",
      "22/22 [==============================] - 0s 524us/step - loss: 249411.2031\n",
      "Epoch 27/250\n",
      "22/22 [==============================] - 0s 476us/step - loss: 248603.0625\n",
      "Epoch 28/250\n",
      "22/22 [==============================] - 0s 476us/step - loss: 247724.3906\n",
      "Epoch 29/250\n",
      "22/22 [==============================] - 0s 524us/step - loss: 246772.2500\n",
      "Epoch 30/250\n",
      "22/22 [==============================] - 0s 524us/step - loss: 245737.0312\n",
      "Epoch 31/250\n",
      "22/22 [==============================] - 0s 476us/step - loss: 244615.7500\n",
      "Epoch 32/250\n",
      "22/22 [==============================] - 0s 476us/step - loss: 243408.7812\n",
      "Epoch 33/250\n",
      "22/22 [==============================] - 0s 476us/step - loss: 242110.9688\n",
      "Epoch 34/250\n",
      "22/22 [==============================] - 0s 524us/step - loss: 240711.7500\n",
      "Epoch 35/250\n",
      "22/22 [==============================] - 0s 476us/step - loss: 239214.4844\n",
      "Epoch 36/250\n",
      "22/22 [==============================] - 0s 524us/step - loss: 237606.6719\n",
      "Epoch 37/250\n",
      "22/22 [==============================] - 0s 524us/step - loss: 235888.0156\n",
      "Epoch 38/250\n",
      "22/22 [==============================] - 0s 476us/step - loss: 234057.5938\n",
      "Epoch 39/250\n",
      "22/22 [==============================] - 0s 476us/step - loss: 232114.0312\n",
      "Epoch 40/250\n",
      "22/22 [==============================] - 0s 476us/step - loss: 230038.2344\n",
      "Epoch 41/250\n",
      "22/22 [==============================] - 0s 524us/step - loss: 227846.4688\n",
      "Epoch 42/250\n",
      "22/22 [==============================] - 0s 524us/step - loss: 225514.4219\n",
      "Epoch 43/250\n",
      "22/22 [==============================] - 0s 476us/step - loss: 223041.7656\n",
      "Epoch 44/250\n",
      "22/22 [==============================] - 0s 524us/step - loss: 220450.2656\n",
      "Epoch 45/250\n",
      "22/22 [==============================] - 0s 524us/step - loss: 217717.3281\n",
      "Epoch 46/250\n",
      "22/22 [==============================] - 0s 476us/step - loss: 214826.8281\n",
      "Epoch 47/250\n",
      "22/22 [==============================] - 0s 476us/step - loss: 211807.0000\n",
      "Epoch 48/250\n",
      "22/22 [==============================] - 0s 524us/step - loss: 208613.4844\n",
      "Epoch 49/250\n",
      "22/22 [==============================] - 0s 476us/step - loss: 205267.2031\n",
      "Epoch 50/250\n",
      "22/22 [==============================] - 0s 476us/step - loss: 201781.4688\n",
      "Epoch 51/250\n",
      "22/22 [==============================] - 0s 476us/step - loss: 198122.2656\n",
      "Epoch 52/250\n",
      "22/22 [==============================] - 0s 476us/step - loss: 194312.2500\n",
      "Epoch 53/250\n",
      "22/22 [==============================] - 0s 476us/step - loss: 190342.8125\n",
      "Epoch 54/250\n",
      "22/22 [==============================] - 0s 476us/step - loss: 186204.5469\n",
      "Epoch 55/250\n",
      "22/22 [==============================] - 0s 524us/step - loss: 181923.1562\n",
      "Epoch 56/250\n",
      "22/22 [==============================] - 0s 524us/step - loss: 177501.1719\n",
      "Epoch 57/250\n",
      "22/22 [==============================] - 0s 524us/step - loss: 172899.8750\n",
      "Epoch 58/250\n",
      "22/22 [==============================] - 0s 476us/step - loss: 168152.5781\n",
      "Epoch 59/250\n",
      "22/22 [==============================] - 0s 476us/step - loss: 163248.5156\n",
      "Epoch 60/250\n",
      "22/22 [==============================] - 0s 476us/step - loss: 158183.8594\n",
      "Epoch 61/250\n",
      "22/22 [==============================] - 0s 476us/step - loss: 152985.6250\n",
      "Epoch 62/250\n",
      "22/22 [==============================] - 0s 524us/step - loss: 147633.1719\n",
      "Epoch 63/250\n",
      "22/22 [==============================] - 0s 524us/step - loss: 142164.6562\n",
      "Epoch 64/250\n",
      "22/22 [==============================] - 0s 524us/step - loss: 136560.3125\n",
      "Epoch 65/250\n",
      "22/22 [==============================] - 0s 524us/step - loss: 130835.7812\n",
      "Epoch 66/250\n",
      "22/22 [==============================] - 0s 476us/step - loss: 124985.9219\n",
      "Epoch 67/250\n",
      "22/22 [==============================] - 0s 524us/step - loss: 119070.2422\n",
      "Epoch 68/250\n",
      "22/22 [==============================] - 0s 524us/step - loss: 113074.5234\n",
      "Epoch 69/250\n",
      "22/22 [==============================] - 0s 524us/step - loss: 106985.8281\n",
      "Epoch 70/250\n",
      "22/22 [==============================] - 0s 476us/step - loss: 100849.3750\n",
      "Epoch 71/250\n",
      "22/22 [==============================] - 0s 524us/step - loss: 94654.0078\n",
      "Epoch 72/250\n",
      "22/22 [==============================] - 0s 524us/step - loss: 88448.9766\n",
      "Epoch 73/250\n",
      "22/22 [==============================] - 0s 476us/step - loss: 82269.7422\n",
      "Epoch 74/250\n",
      "22/22 [==============================] - 0s 476us/step - loss: 76060.7578\n",
      "Epoch 75/250\n",
      "22/22 [==============================] - 0s 524us/step - loss: 69869.9062\n",
      "Epoch 76/250\n",
      "22/22 [==============================] - 0s 476us/step - loss: 63797.2227\n",
      "Epoch 77/250\n",
      "22/22 [==============================] - 0s 476us/step - loss: 57815.5586\n",
      "Epoch 78/250\n",
      "22/22 [==============================] - 0s 524us/step - loss: 51937.6953\n",
      "Epoch 79/250\n",
      "22/22 [==============================] - 0s 524us/step - loss: 46231.2852\n",
      "Epoch 80/250\n",
      "22/22 [==============================] - 0s 524us/step - loss: 40691.5430\n",
      "Epoch 81/250\n",
      "22/22 [==============================] - 0s 476us/step - loss: 35379.9844\n",
      "Epoch 82/250\n",
      "22/22 [==============================] - 0s 497us/step - loss: 30308.9023\n",
      "Epoch 83/250\n",
      "22/22 [==============================] - 0s 524us/step - loss: 25534.9082\n",
      "Epoch 84/250\n",
      "22/22 [==============================] - 0s 524us/step - loss: 21113.0137\n",
      "Epoch 85/250\n",
      "22/22 [==============================] - 0s 476us/step - loss: 17062.0977\n",
      "Epoch 86/250\n",
      "22/22 [==============================] - 0s 571us/step - loss: 13448.9590\n",
      "Epoch 87/250\n",
      "22/22 [==============================] - 0s 524us/step - loss: 10278.3867\n",
      "Epoch 88/250\n",
      "22/22 [==============================] - 0s 524us/step - loss: 7623.3662\n",
      "Epoch 89/250\n",
      "22/22 [==============================] - 0s 476us/step - loss: 5553.3984\n",
      "Epoch 90/250\n",
      "22/22 [==============================] - 0s 524us/step - loss: 4034.0129\n",
      "Epoch 91/250\n",
      "22/22 [==============================] - 0s 524us/step - loss: 3076.5803\n",
      "Epoch 92/250\n",
      "22/22 [==============================] - 0s 476us/step - loss: 2645.6511\n",
      "Epoch 93/250\n",
      "22/22 [==============================] - 0s 476us/step - loss: 2527.4841\n",
      "Epoch 94/250\n"
     ]
    },
    {
     "name": "stdout",
     "output_type": "stream",
     "text": [
      "22/22 [==============================] - 0s 524us/step - loss: 2484.6523\n",
      "Epoch 95/250\n",
      "22/22 [==============================] - 0s 571us/step - loss: 2445.5464\n",
      "Epoch 96/250\n",
      "22/22 [==============================] - 0s 524us/step - loss: 2413.3245\n",
      "Epoch 97/250\n",
      "22/22 [==============================] - 0s 524us/step - loss: 2373.9053\n",
      "Epoch 98/250\n",
      "22/22 [==============================] - 0s 476us/step - loss: 2331.8240\n",
      "Epoch 99/250\n",
      "22/22 [==============================] - 0s 476us/step - loss: 2297.6123\n",
      "Epoch 100/250\n",
      "22/22 [==============================] - 0s 476us/step - loss: 2259.6848\n",
      "Epoch 101/250\n",
      "22/22 [==============================] - 0s 476us/step - loss: 2219.2083\n",
      "Epoch 102/250\n",
      "22/22 [==============================] - 0s 571us/step - loss: 2179.2756\n",
      "Epoch 103/250\n",
      "22/22 [==============================] - 0s 476us/step - loss: 2139.5278\n",
      "Epoch 104/250\n",
      "22/22 [==============================] - 0s 476us/step - loss: 2105.0747\n",
      "Epoch 105/250\n",
      "22/22 [==============================] - 0s 524us/step - loss: 2069.0063\n",
      "Epoch 106/250\n",
      "22/22 [==============================] - 0s 524us/step - loss: 2037.2469\n",
      "Epoch 107/250\n",
      "22/22 [==============================] - 0s 524us/step - loss: 2000.2836\n",
      "Epoch 108/250\n",
      "22/22 [==============================] - 0s 524us/step - loss: 1970.6704\n",
      "Epoch 109/250\n",
      "22/22 [==============================] - 0s 524us/step - loss: 1931.3306\n",
      "Epoch 110/250\n",
      "22/22 [==============================] - 0s 524us/step - loss: 1895.9630\n",
      "Epoch 111/250\n",
      "22/22 [==============================] - 0s 524us/step - loss: 1865.5753\n",
      "Epoch 112/250\n",
      "22/22 [==============================] - 0s 476us/step - loss: 1830.2063\n",
      "Epoch 113/250\n",
      "22/22 [==============================] - 0s 524us/step - loss: 1797.7014\n",
      "Epoch 114/250\n",
      "22/22 [==============================] - 0s 524us/step - loss: 1766.1906\n",
      "Epoch 115/250\n",
      "22/22 [==============================] - 0s 429us/step - loss: 1724.9448\n",
      "Epoch 116/250\n",
      "22/22 [==============================] - 0s 524us/step - loss: 1699.9371\n",
      "Epoch 117/250\n",
      "22/22 [==============================] - 0s 571us/step - loss: 1659.8909\n",
      "Epoch 118/250\n",
      "22/22 [==============================] - 0s 524us/step - loss: 1629.0352\n",
      "Epoch 119/250\n",
      "22/22 [==============================] - 0s 476us/step - loss: 1590.7668\n",
      "Epoch 120/250\n",
      "22/22 [==============================] - 0s 476us/step - loss: 1559.5504\n",
      "Epoch 121/250\n",
      "22/22 [==============================] - 0s 476us/step - loss: 1526.8666\n",
      "Epoch 122/250\n",
      "22/22 [==============================] - 0s 524us/step - loss: 1494.3512\n",
      "Epoch 123/250\n",
      "22/22 [==============================] - 0s 476us/step - loss: 1464.2233\n",
      "Epoch 124/250\n",
      "22/22 [==============================] - 0s 524us/step - loss: 1431.0157\n",
      "Epoch 125/250\n",
      "22/22 [==============================] - 0s 476us/step - loss: 1402.4813\n",
      "Epoch 126/250\n",
      "22/22 [==============================] - 0s 524us/step - loss: 1371.8834\n",
      "Epoch 127/250\n",
      "22/22 [==============================] - 0s 476us/step - loss: 1338.9958\n",
      "Epoch 128/250\n",
      "22/22 [==============================] - 0s 524us/step - loss: 1310.7681\n",
      "Epoch 129/250\n",
      "22/22 [==============================] - 0s 524us/step - loss: 1278.6947\n",
      "Epoch 130/250\n",
      "22/22 [==============================] - 0s 524us/step - loss: 1251.1925\n",
      "Epoch 131/250\n",
      "22/22 [==============================] - 0s 476us/step - loss: 1221.2386\n",
      "Epoch 132/250\n",
      "22/22 [==============================] - 0s 524us/step - loss: 1192.9235\n",
      "Epoch 133/250\n",
      "22/22 [==============================] - 0s 525us/step - loss: 1160.8237\n",
      "Epoch 134/250\n",
      "22/22 [==============================] - 0s 524us/step - loss: 1130.9384\n",
      "Epoch 135/250\n",
      "22/22 [==============================] - 0s 476us/step - loss: 1101.0555\n",
      "Epoch 136/250\n",
      "22/22 [==============================] - 0s 524us/step - loss: 1070.5076\n",
      "Epoch 137/250\n",
      "22/22 [==============================] - 0s 524us/step - loss: 1041.6914\n",
      "Epoch 138/250\n",
      "22/22 [==============================] - 0s 476us/step - loss: 1013.7675\n",
      "Epoch 139/250\n",
      "22/22 [==============================] - 0s 476us/step - loss: 987.3729\n",
      "Epoch 140/250\n",
      "22/22 [==============================] - 0s 496us/step - loss: 961.6489\n",
      "Epoch 141/250\n",
      "22/22 [==============================] - 0s 488us/step - loss: 932.2355\n",
      "Epoch 142/250\n",
      "22/22 [==============================] - 0s 524us/step - loss: 903.7924\n",
      "Epoch 143/250\n",
      "22/22 [==============================] - 0s 524us/step - loss: 877.1974\n",
      "Epoch 144/250\n",
      "22/22 [==============================] - 0s 571us/step - loss: 849.4214\n",
      "Epoch 145/250\n",
      "22/22 [==============================] - 0s 524us/step - loss: 820.3198\n",
      "Epoch 146/250\n",
      "22/22 [==============================] - 0s 476us/step - loss: 793.5721\n",
      "Epoch 147/250\n",
      "22/22 [==============================] - 0s 476us/step - loss: 768.3009\n",
      "Epoch 148/250\n",
      "22/22 [==============================] - 0s 476us/step - loss: 741.1773\n",
      "Epoch 149/250\n",
      "22/22 [==============================] - 0s 524us/step - loss: 717.7944\n",
      "Epoch 150/250\n",
      "22/22 [==============================] - 0s 524us/step - loss: 693.4152\n",
      "Epoch 151/250\n",
      "22/22 [==============================] - 0s 476us/step - loss: 666.4626\n",
      "Epoch 152/250\n",
      "22/22 [==============================] - 0s 524us/step - loss: 642.6738\n",
      "Epoch 153/250\n",
      "22/22 [==============================] - 0s 524us/step - loss: 618.6950\n",
      "Epoch 154/250\n",
      "22/22 [==============================] - 0s 429us/step - loss: 595.5652\n",
      "Epoch 155/250\n",
      "22/22 [==============================] - 0s 476us/step - loss: 573.8102\n",
      "Epoch 156/250\n",
      "22/22 [==============================] - 0s 476us/step - loss: 551.8331\n",
      "Epoch 157/250\n",
      "22/22 [==============================] - 0s 524us/step - loss: 531.8917\n",
      "Epoch 158/250\n",
      "22/22 [==============================] - 0s 476us/step - loss: 510.1472\n",
      "Epoch 159/250\n",
      "22/22 [==============================] - 0s 476us/step - loss: 495.6161\n",
      "Epoch 160/250\n",
      "22/22 [==============================] - 0s 572us/step - loss: 476.1180\n",
      "Epoch 161/250\n",
      "22/22 [==============================] - 0s 571us/step - loss: 459.8006\n",
      "Epoch 162/250\n",
      "22/22 [==============================] - 0s 476us/step - loss: 440.3178\n",
      "Epoch 163/250\n",
      "22/22 [==============================] - 0s 524us/step - loss: 419.1944\n",
      "Epoch 164/250\n",
      "22/22 [==============================] - 0s 524us/step - loss: 400.3197\n",
      "Epoch 165/250\n",
      "22/22 [==============================] - 0s 477us/step - loss: 382.6671\n",
      "Epoch 166/250\n",
      "22/22 [==============================] - 0s 524us/step - loss: 363.1918\n",
      "Epoch 167/250\n",
      "22/22 [==============================] - 0s 571us/step - loss: 345.0096\n",
      "Epoch 168/250\n",
      "22/22 [==============================] - 0s 476us/step - loss: 326.1950\n",
      "Epoch 169/250\n",
      "22/22 [==============================] - 0s 476us/step - loss: 310.9405\n",
      "Epoch 170/250\n",
      "22/22 [==============================] - 0s 476us/step - loss: 296.0909\n",
      "Epoch 171/250\n",
      "22/22 [==============================] - 0s 572us/step - loss: 280.1546\n",
      "Epoch 172/250\n",
      "22/22 [==============================] - 0s 524us/step - loss: 263.6463\n",
      "Epoch 173/250\n",
      "22/22 [==============================] - 0s 524us/step - loss: 250.2491\n",
      "Epoch 174/250\n",
      "22/22 [==============================] - 0s 524us/step - loss: 236.4441\n",
      "Epoch 175/250\n",
      "22/22 [==============================] - 0s 476us/step - loss: 221.7543\n",
      "Epoch 176/250\n",
      "22/22 [==============================] - 0s 524us/step - loss: 209.5237\n",
      "Epoch 177/250\n",
      "22/22 [==============================] - 0s 476us/step - loss: 199.2215\n",
      "Epoch 178/250\n",
      "22/22 [==============================] - 0s 523us/step - loss: 186.9475\n",
      "Epoch 179/250\n",
      "22/22 [==============================] - 0s 524us/step - loss: 174.4350\n",
      "Epoch 180/250\n",
      "22/22 [==============================] - 0s 476us/step - loss: 163.3047\n",
      "Epoch 181/250\n",
      "22/22 [==============================] - 0s 475us/step - loss: 151.9149\n",
      "Epoch 182/250\n",
      "22/22 [==============================] - 0s 524us/step - loss: 140.3918\n",
      "Epoch 183/250\n",
      "22/22 [==============================] - 0s 533us/step - loss: 131.6753\n",
      "Epoch 184/250\n",
      "22/22 [==============================] - 0s 524us/step - loss: 122.3763\n",
      "Epoch 185/250\n",
      "22/22 [==============================] - 0s 524us/step - loss: 114.9162\n",
      "Epoch 186/250\n",
      "22/22 [==============================] - 0s 476us/step - loss: 106.9302\n",
      "Epoch 187/250\n",
      "22/22 [==============================] - 0s 524us/step - loss: 99.4857\n",
      "Epoch 188/250\n",
      "22/22 [==============================] - 0s 524us/step - loss: 91.6914\n"
     ]
    },
    {
     "name": "stdout",
     "output_type": "stream",
     "text": [
      "Epoch 189/250\n",
      "22/22 [==============================] - 0s 476us/step - loss: 84.2937\n",
      "Epoch 190/250\n",
      "22/22 [==============================] - 0s 524us/step - loss: 77.8341\n",
      "Epoch 191/250\n",
      "22/22 [==============================] - 0s 524us/step - loss: 72.3048\n",
      "Epoch 192/250\n",
      "22/22 [==============================] - 0s 524us/step - loss: 67.1394\n",
      "Epoch 193/250\n",
      "22/22 [==============================] - 0s 476us/step - loss: 62.3819\n",
      "Epoch 194/250\n",
      "22/22 [==============================] - 0s 524us/step - loss: 57.3836\n",
      "Epoch 195/250\n",
      "22/22 [==============================] - 0s 524us/step - loss: 53.6230\n",
      "Epoch 196/250\n",
      "22/22 [==============================] - 0s 524us/step - loss: 49.9702\n",
      "Epoch 197/250\n",
      "22/22 [==============================] - 0s 476us/step - loss: 47.1366\n",
      "Epoch 198/250\n",
      "22/22 [==============================] - 0s 571us/step - loss: 44.0483\n",
      "Epoch 199/250\n",
      "22/22 [==============================] - 0s 524us/step - loss: 40.7404\n",
      "Epoch 200/250\n",
      "22/22 [==============================] - 0s 524us/step - loss: 38.9999\n",
      "Epoch 201/250\n",
      "22/22 [==============================] - 0s 524us/step - loss: 36.6290\n",
      "Epoch 202/250\n",
      "22/22 [==============================] - 0s 524us/step - loss: 34.3351\n",
      "Epoch 203/250\n",
      "22/22 [==============================] - 0s 524us/step - loss: 32.5835\n",
      "Epoch 204/250\n",
      "22/22 [==============================] - 0s 524us/step - loss: 31.0428\n",
      "Epoch 205/250\n",
      "22/22 [==============================] - 0s 476us/step - loss: 30.0153\n",
      "Epoch 206/250\n",
      "22/22 [==============================] - 0s 524us/step - loss: 29.4268\n",
      "Epoch 207/250\n",
      "22/22 [==============================] - 0s 476us/step - loss: 28.4072\n",
      "Epoch 208/250\n",
      "22/22 [==============================] - 0s 524us/step - loss: 27.3315\n",
      "Epoch 209/250\n",
      "22/22 [==============================] - 0s 476us/step - loss: 27.1192\n",
      "Epoch 210/250\n",
      "22/22 [==============================] - 0s 571us/step - loss: 26.5941\n",
      "Epoch 211/250\n",
      "22/22 [==============================] - 0s 476us/step - loss: 26.4524\n",
      "Epoch 212/250\n",
      "22/22 [==============================] - 0s 524us/step - loss: 26.1968\n",
      "Epoch 213/250\n",
      "22/22 [==============================] - 0s 476us/step - loss: 26.1181\n",
      "Epoch 214/250\n",
      "22/22 [==============================] - 0s 524us/step - loss: 25.3807\n",
      "Epoch 215/250\n",
      "22/22 [==============================] - 0s 571us/step - loss: 25.0028\n",
      "Epoch 216/250\n",
      "22/22 [==============================] - 0s 524us/step - loss: 25.2900\n",
      "Epoch 217/250\n",
      "22/22 [==============================] - 0s 524us/step - loss: 25.4084\n",
      "Epoch 218/250\n",
      "22/22 [==============================] - 0s 524us/step - loss: 24.6711\n",
      "Epoch 219/250\n",
      "22/22 [==============================] - 0s 524us/step - loss: 24.6742\n",
      "Epoch 220/250\n",
      "22/22 [==============================] - 0s 524us/step - loss: 24.7136\n",
      "Epoch 221/250\n",
      "22/22 [==============================] - 0s 476us/step - loss: 24.7095\n",
      "Epoch 222/250\n",
      "22/22 [==============================] - 0s 476us/step - loss: 24.4088\n",
      "Epoch 223/250\n",
      "22/22 [==============================] - 0s 524us/step - loss: 24.4829\n",
      "Epoch 224/250\n",
      "22/22 [==============================] - 0s 524us/step - loss: 24.2490\n",
      "Epoch 225/250\n",
      "22/22 [==============================] - 0s 476us/step - loss: 24.8118\n",
      "Epoch 226/250\n",
      "22/22 [==============================] - 0s 571us/step - loss: 24.4188\n",
      "Epoch 227/250\n",
      "22/22 [==============================] - 0s 524us/step - loss: 24.5269\n",
      "Epoch 228/250\n",
      "22/22 [==============================] - 0s 524us/step - loss: 24.2362\n",
      "Epoch 229/250\n",
      "22/22 [==============================] - 0s 524us/step - loss: 24.1337\n",
      "Epoch 230/250\n",
      "22/22 [==============================] - 0s 524us/step - loss: 24.2143\n",
      "Epoch 231/250\n",
      "22/22 [==============================] - 0s 524us/step - loss: 24.1831\n",
      "Epoch 232/250\n",
      "22/22 [==============================] - 0s 476us/step - loss: 24.0293\n",
      "Epoch 233/250\n",
      "22/22 [==============================] - 0s 476us/step - loss: 24.6952\n",
      "Epoch 234/250\n",
      "22/22 [==============================] - 0s 571us/step - loss: 24.5542\n",
      "Epoch 235/250\n",
      "22/22 [==============================] - 0s 571us/step - loss: 23.9284\n",
      "Epoch 236/250\n",
      "22/22 [==============================] - 0s 524us/step - loss: 24.2109\n",
      "Epoch 237/250\n",
      "22/22 [==============================] - 0s 524us/step - loss: 24.4073\n",
      "Epoch 238/250\n",
      "22/22 [==============================] - 0s 524us/step - loss: 24.2428\n",
      "Epoch 239/250\n",
      "22/22 [==============================] - 0s 524us/step - loss: 24.2720\n",
      "Epoch 240/250\n",
      "22/22 [==============================] - 0s 524us/step - loss: 24.1448\n",
      "Epoch 241/250\n",
      "22/22 [==============================] - 0s 476us/step - loss: 24.2949\n",
      "Epoch 242/250\n",
      "22/22 [==============================] - 0s 530us/step - loss: 24.3108\n",
      "Epoch 243/250\n",
      "22/22 [==============================] - 0s 486us/step - loss: 24.5061\n",
      "Epoch 244/250\n",
      "22/22 [==============================] - 0s 476us/step - loss: 24.5108\n",
      "Epoch 245/250\n",
      "22/22 [==============================] - 0s 524us/step - loss: 24.0220\n",
      "Epoch 246/250\n",
      "22/22 [==============================] - 0s 524us/step - loss: 24.5202\n",
      "Epoch 247/250\n",
      "22/22 [==============================] - 0s 524us/step - loss: 24.4693\n",
      "Epoch 248/250\n",
      "22/22 [==============================] - 0s 476us/step - loss: 24.1756\n",
      "Epoch 249/250\n",
      "22/22 [==============================] - 0s 476us/step - loss: 24.2790\n",
      "Epoch 250/250\n",
      "22/22 [==============================] - 0s 476us/step - loss: 24.6633\n"
     ]
    },
    {
     "data": {
      "text/plain": [
       "<keras.callbacks.History at 0x24cb9573d08>"
      ]
     },
     "execution_count": 43,
     "metadata": {},
     "output_type": "execute_result"
    }
   ],
   "source": [
    "# Epochs = iterations over entire dataset\n",
    "model.fit(x=X_train,y=y_train,epochs=250)"
   ]
  },
  {
   "cell_type": "code",
   "execution_count": 44,
   "id": "1add55e6",
   "metadata": {},
   "outputs": [],
   "source": [
    "loss_df = pd.DataFrame(model.history.history)"
   ]
  },
  {
   "cell_type": "code",
   "execution_count": 45,
   "id": "84702978",
   "metadata": {},
   "outputs": [
    {
     "data": {
      "text/plain": [
       "<AxesSubplot:>"
      ]
     },
     "execution_count": 45,
     "metadata": {},
     "output_type": "execute_result"
    },
    {
     "data": {
      "image/png": "[encoded data removed]",
      "text/plain": [
       "<Figure size 432x288 with 1 Axes>"
      ]
     },
     "metadata": {
      "needs_background": "light"
     },
     "output_type": "display_data"
    }
   ],
   "source": [
    "loss_df.plot()"
   ]
  },
  {
   "cell_type": "markdown",
   "id": "61d365fd",
   "metadata": {},
   "source": [
    "# Evaluate Model"
   ]
  },
  {
   "cell_type": "code",
   "execution_count": 46,
   "id": "3bdef7ad",
   "metadata": {},
   "outputs": [
    {
     "data": {
      "text/plain": [
       "26.590539932250977"
      ]
     },
     "execution_count": 46,
     "metadata": {},
     "output_type": "execute_result"
    }
   ],
   "source": [
    "model.evaluate(x=X_test,y=y_test,verbose=0) # Mean Squared Error..."
   ]
  },
  {
   "cell_type": "code",
   "execution_count": 47,
   "id": "cb25cd43",
   "metadata": {},
   "outputs": [
    {
     "data": {
      "text/plain": [
       "24.426355361938477"
      ]
     },
     "execution_count": 47,
     "metadata": {},
     "output_type": "execute_result"
    }
   ],
   "source": [
    "model.evaluate(X_train,y_train,verbose=0)"
   ]
  },
  {
   "cell_type": "code",
   "execution_count": 48,
   "id": "2ff4ac2d",
   "metadata": {},
   "outputs": [],
   "source": [
    "test_predictions = model.predict(X_test)"
   ]
  },
  {
   "cell_type": "code",
   "execution_count": 50,
   "id": "47f5787b",
   "metadata": {},
   "outputs": [],
   "source": [
    "# test_predictions"
   ]
  },
  {
   "cell_type": "code",
   "execution_count": 51,
   "id": "8805eecf",
   "metadata": {},
   "outputs": [],
   "source": [
    "test_predictions = pd.Series(test_predictions.reshape(300,))"
   ]
  },
  {
   "cell_type": "code",
   "execution_count": 52,
   "id": "f357a180",
   "metadata": {},
   "outputs": [],
   "source": [
    "pred_df = pd.DataFrame(y_test,columns=['Test True Y'])"
   ]
  },
  {
   "cell_type": "code",
   "execution_count": 53,
   "id": "a006e903",
   "metadata": {},
   "outputs": [],
   "source": [
    "pred_df = pd.concat([pred_df,test_predictions],axis=1)"
   ]
  },
  {
   "cell_type": "code",
   "execution_count": 54,
   "id": "accc9409",
   "metadata": {},
   "outputs": [],
   "source": [
    "pred_df.columns = ['Test True Y','Model Predictions']"
   ]
  },
  {
   "cell_type": "code",
   "execution_count": 55,
   "id": "874c6d1a",
   "metadata": {},
   "outputs": [
    {
     "data": {
      "text/html": [
       "<div>\n",
       "<style scoped>\n",
       "    .dataframe tbody tr th:only-of-type {\n",
       "        vertical-align: middle;\n",
       "    }\n",
       "\n",
       "    .dataframe tbody tr th {\n",
       "        vertical-align: top;\n",
       "    }\n",
       "\n",
       "    .dataframe thead th {\n",
       "        text-align: right;\n",
       "    }\n",
       "</style>\n",
       "<table border=\"1\" class=\"dataframe\">\n",
       "  <thead>\n",
       "    <tr style=\"text-align: right;\">\n",
       "      <th></th>\n",
       "      <th>Test True Y</th>\n",
       "      <th>Model Predictions</th>\n",
       "    </tr>\n",
       "  </thead>\n",
       "  <tbody>\n",
       "    <tr>\n",
       "      <th>0</th>\n",
       "      <td>402.296319</td>\n",
       "      <td>406.238098</td>\n",
       "    </tr>\n",
       "    <tr>\n",
       "      <th>1</th>\n",
       "      <td>624.156198</td>\n",
       "      <td>624.950867</td>\n",
       "    </tr>\n",
       "    <tr>\n",
       "      <th>2</th>\n",
       "      <td>582.455066</td>\n",
       "      <td>593.473633</td>\n",
       "    </tr>\n",
       "    <tr>\n",
       "      <th>3</th>\n",
       "      <td>578.588606</td>\n",
       "      <td>573.534851</td>\n",
       "    </tr>\n",
       "    <tr>\n",
       "      <th>4</th>\n",
       "      <td>371.224104</td>\n",
       "      <td>367.494934</td>\n",
       "    </tr>\n",
       "  </tbody>\n",
       "</table>\n",
       "</div>"
      ],
      "text/plain": [
       "   Test True Y  Model Predictions\n",
       "0   402.296319         406.238098\n",
       "1   624.156198         624.950867\n",
       "2   582.455066         593.473633\n",
       "3   578.588606         573.534851\n",
       "4   371.224104         367.494934"
      ]
     },
     "execution_count": 55,
     "metadata": {},
     "output_type": "execute_result"
    }
   ],
   "source": [
    "pred_df.head()"
   ]
  },
  {
   "cell_type": "code",
   "execution_count": 56,
   "id": "c1b2cb54",
   "metadata": {},
   "outputs": [
    {
     "data": {
      "text/plain": [
       "<AxesSubplot:xlabel='Test True Y', ylabel='Model Predictions'>"
      ]
     },
     "execution_count": 56,
     "metadata": {},
     "output_type": "execute_result"
    },
    {
     "data": {
      "image/png": "[encoded data removed]",
      "text/plain": [
       "<Figure size 432x288 with 1 Axes>"
      ]
     },
     "metadata": {
      "needs_background": "light"
     },
     "output_type": "display_data"
    }
   ],
   "source": [
    "sns.scatterplot(x='Test True Y',y='Model Predictions',data=pred_df)"
   ]
  },
  {
   "cell_type": "code",
   "execution_count": 57,
   "id": "7b77c84c",
   "metadata": {},
   "outputs": [],
   "source": [
    "from sklearn.metrics import mean_absolute_error,mean_squared_error"
   ]
  },
  {
   "cell_type": "code",
   "execution_count": 58,
   "id": "fdc464d6",
   "metadata": {},
   "outputs": [
    {
     "data": {
      "text/plain": [
       "4.180514562338571"
      ]
     },
     "execution_count": 58,
     "metadata": {},
     "output_type": "execute_result"
    }
   ],
   "source": [
    "mean_absolute_error(pred_df['Test True Y'],pred_df['Model Predictions'])"
   ]
  },
  {
   "cell_type": "code",
   "execution_count": 60,
   "id": "75ae66dd",
   "metadata": {},
   "outputs": [
    {
     "data": {
      "text/html": [
       "<div>\n",
       "<style scoped>\n",
       "    .dataframe tbody tr th:only-of-type {\n",
       "        vertical-align: middle;\n",
       "    }\n",
       "\n",
       "    .dataframe tbody tr th {\n",
       "        vertical-align: top;\n",
       "    }\n",
       "\n",
       "    .dataframe thead th {\n",
       "        text-align: right;\n",
       "    }\n",
       "</style>\n",
       "<table border=\"1\" class=\"dataframe\">\n",
       "  <thead>\n",
       "    <tr style=\"text-align: right;\">\n",
       "      <th></th>\n",
       "      <th>price</th>\n",
       "      <th>feature1</th>\n",
       "      <th>feature2</th>\n",
       "    </tr>\n",
       "  </thead>\n",
       "  <tbody>\n",
       "    <tr>\n",
       "      <th>count</th>\n",
       "      <td>1000.000000</td>\n",
       "      <td>1000.000000</td>\n",
       "      <td>1000.000000</td>\n",
       "    </tr>\n",
       "    <tr>\n",
       "      <th>mean</th>\n",
       "      <td>498.673029</td>\n",
       "      <td>1000.014171</td>\n",
       "      <td>999.979847</td>\n",
       "    </tr>\n",
       "    <tr>\n",
       "      <th>std</th>\n",
       "      <td>93.785431</td>\n",
       "      <td>0.974018</td>\n",
       "      <td>0.948330</td>\n",
       "    </tr>\n",
       "    <tr>\n",
       "      <th>min</th>\n",
       "      <td>223.346793</td>\n",
       "      <td>997.058347</td>\n",
       "      <td>996.995651</td>\n",
       "    </tr>\n",
       "    <tr>\n",
       "      <th>25%</th>\n",
       "      <td>433.025732</td>\n",
       "      <td>999.332068</td>\n",
       "      <td>999.316106</td>\n",
       "    </tr>\n",
       "    <tr>\n",
       "      <th>50%</th>\n",
       "      <td>502.382117</td>\n",
       "      <td>1000.009915</td>\n",
       "      <td>1000.002243</td>\n",
       "    </tr>\n",
       "    <tr>\n",
       "      <th>75%</th>\n",
       "      <td>564.921588</td>\n",
       "      <td>1000.637580</td>\n",
       "      <td>1000.645380</td>\n",
       "    </tr>\n",
       "    <tr>\n",
       "      <th>max</th>\n",
       "      <td>774.407854</td>\n",
       "      <td>1003.207934</td>\n",
       "      <td>1002.666308</td>\n",
       "    </tr>\n",
       "  </tbody>\n",
       "</table>\n",
       "</div>"
      ],
      "text/plain": [
       "             price     feature1     feature2\n",
       "count  1000.000000  1000.000000  1000.000000\n",
       "mean    498.673029  1000.014171   999.979847\n",
       "std      93.785431     0.974018     0.948330\n",
       "min     223.346793   997.058347   996.995651\n",
       "25%     433.025732   999.332068   999.316106\n",
       "50%     502.382117  1000.009915  1000.002243\n",
       "75%     564.921588  1000.637580  1000.645380\n",
       "max     774.407854  1003.207934  1002.666308"
      ]
     },
     "execution_count": 60,
     "metadata": {},
     "output_type": "execute_result"
    }
   ],
   "source": [
    "df.describe()"
   ]
  },
  {
   "cell_type": "code",
   "execution_count": 64,
   "id": "135c9318",
   "metadata": {},
   "outputs": [
    {
     "data": {
      "text/plain": [
       "26.590542376517316"
      ]
     },
     "execution_count": 64,
     "metadata": {},
     "output_type": "execute_result"
    }
   ],
   "source": [
    "mean_squared_error(pred_df['Test True Y'],pred_df['Model Predictions'])"
   ]
  },
  {
   "cell_type": "code",
   "execution_count": 63,
   "id": "8472a54e",
   "metadata": {},
   "outputs": [
    {
     "data": {
      "text/plain": [
       "5.156601824507814"
      ]
     },
     "execution_count": 63,
     "metadata": {},
     "output_type": "execute_result"
    }
   ],
   "source": [
    "mean_squared_error(pred_df['Test True Y'],pred_df['Model Predictions'])**0.5 # RMSE"
   ]
  },
  {
   "cell_type": "code",
   "execution_count": 65,
   "id": "3267d920",
   "metadata": {},
   "outputs": [],
   "source": [
    "# New records\n",
    "new_gem = [[998,1000 ]]"
   ]
  },
  {
   "cell_type": "code",
   "execution_count": 66,
   "id": "51f1bce1",
   "metadata": {},
   "outputs": [],
   "source": [
    "new_gem = scaler.transform(new_gem)"
   ]
  },
  {
   "cell_type": "code",
   "execution_count": 68,
   "id": "4c83069a",
   "metadata": {},
   "outputs": [
    {
     "data": {
      "text/plain": [
       "array([[420.67676]], dtype=float32)"
      ]
     },
     "execution_count": 68,
     "metadata": {},
     "output_type": "execute_result"
    }
   ],
   "source": [
    "model.predict(new_gem)"
   ]
  },
  {
   "cell_type": "code",
   "execution_count": 69,
   "id": "7ac4dc54",
   "metadata": {},
   "outputs": [],
   "source": [
    "from tensorflow.keras.models import load_model"
   ]
  },
  {
   "cell_type": "code",
   "execution_count": 70,
   "id": "b4d57d38",
   "metadata": {},
   "outputs": [],
   "source": [
    "model.save('my_gem_model.h5')"
   ]
  },
  {
   "cell_type": "code",
   "execution_count": 71,
   "id": "e9d8a691",
   "metadata": {},
   "outputs": [],
   "source": [
    "later_model = load_model('my_gem_model.h5')"
   ]
  },
  {
   "cell_type": "code",
   "execution_count": 72,
   "id": "ce05896d",
   "metadata": {},
   "outputs": [
    {
     "data": {
      "text/plain": [
       "array([[420.67676]], dtype=float32)"
      ]
     },
     "execution_count": 72,
     "metadata": {},
     "output_type": "execute_result"
    }
   ],
   "source": [
    "later_model.predict(new_gem)"
   ]
  },
  {
   "cell_type": "markdown",
   "id": "50c29549",
   "metadata": {},
   "source": [
    "# End for this notebook"
   ]
  }
 ],
 "metadata": {
  "kernelspec": {
   "display_name": "Python 3 (ipykernel)",
   "language": "python",
   "name": "python3"
  },
  "language_info": {
   "codemirror_mode": {
    "name": "ipython",
    "version": 3
   },
   "file_extension": ".py",
   "mimetype": "text/x-python",
   "name": "python",
   "nbconvert_exporter": "python",
   "pygments_lexer": "ipython3",
   "version": "3.7.11"
  }
 },
 "nbformat": 4,
 "nbformat_minor": 5
}
